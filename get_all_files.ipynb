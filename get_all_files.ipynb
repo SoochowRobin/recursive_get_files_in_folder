{
 "cells": [
  {
   "cell_type": "code",
   "execution_count": 10,
   "id": "a79bda9a",
   "metadata": {},
   "outputs": [],
   "source": [
    "import os"
   ]
  },
  {
   "cell_type": "code",
   "execution_count": 49,
   "id": "7a062090",
   "metadata": {},
   "outputs": [
    {
     "name": "stdout",
     "output_type": "stream",
     "text": [
      "test_folder\n",
      "get_all_files.ipynb\n",
      "README.md\n"
     ]
    }
   ],
   "source": [
    "# os.listdir() will list all file in the current path\n",
    "for file in os.listdir(): \n",
    "    if not file.startswith('.'):\n",
    "        print(file)"
   ]
  },
  {
   "cell_type": "code",
   "execution_count": 50,
   "id": "ac6bd746",
   "metadata": {},
   "outputs": [
    {
     "name": "stdout",
     "output_type": "stream",
     "text": [
      "get_all_files.ipynb\n",
      "README.md\n",
      "log1.txt\n",
      "log2.txt\n",
      "log3.txt\n",
      "get_all_files-checkpoint.ipynb\n",
      "config\n",
      "HEAD\n",
      "description\n",
      "index\n",
      "packed-refs\n",
      "FETCH_HEAD\n",
      "pack-3efbbf42d35f455a2b491fe1880869982ab90248.idx\n",
      "pack-3efbbf42d35f455a2b491fe1880869982ab90248.pack\n",
      "exclude\n",
      "HEAD\n",
      "main\n",
      "HEAD\n",
      "commit-msg.sample\n",
      "pre-rebase.sample\n",
      "pre-commit.sample\n",
      "applypatch-msg.sample\n",
      "fsmonitor-watchman.sample\n",
      "pre-receive.sample\n",
      "prepare-commit-msg.sample\n",
      "post-update.sample\n",
      "pre-merge-commit.sample\n",
      "pre-applypatch.sample\n",
      "pre-push.sample\n",
      "update.sample\n",
      "push-to-checkout.sample\n",
      "main\n",
      "HEAD\n"
     ]
    }
   ],
   "source": [
    "path = os.getcwd()  # getcwd() method get current working directory \n",
    "file_list = []\n",
    "# os.walk return a generator, each time is current director root, and list of directories, and list of files \n",
    "# example, print all the files in the folder, except startswith('.')\n",
    "for root, dirs, file in os.walk(path):\n",
    "    for f in file:\n",
    "        if not f.startswith('.'):\n",
    "            print(f)"
   ]
  },
  {
   "cell_type": "markdown",
   "id": "a71c3d23",
   "metadata": {},
   "source": [
    "#### An example that keep the strucure of directory A, and then copy all the files in directory A to B"
   ]
  },
  {
   "cell_type": "code",
   "execution_count": 51,
   "id": "6fd47563",
   "metadata": {},
   "outputs": [],
   "source": [
    "import os "
   ]
  },
  {
   "cell_type": "code",
   "execution_count": null,
   "id": "db6f1271",
   "metadata": {},
   "outputs": [],
   "source": [
    "Root = 'a'\n",
    "Dest = 'b'\n",
    "for (root, dirs, files) in os.walk(Root):\n",
    "    new_root = root.replace(Root, Dest, 1)\n",
    "    if not os.path.exists(new_root):\n",
    "        os.mkdir(new_root)\n",
    "    \n",
    "    for d in dirs:\n",
    "        d = os.path.join(new_root, d)\n",
    "        if not os.path.exists(d):\n",
    "            os.mkdir(d)\n",
    "            \n",
    "    for f in files:\n",
    "        # we could add some filter here to remove some files we do not want\n",
    "        (shortname, extension) = os.path.split(f)\n",
    "        # original file path\n",
    "        old_path = os.path.join(root, f)\n",
    "        new_name = shortname + '_bak' + extension   # we add a flag bak in new filename\n",
    "        \n",
    "        # new file path\n",
    "        new_path = os.path.join(new_root, new_name)\n",
    "        # copy file here\n",
    "        try:\n",
    "            open(new_path, 'wb').write(open(old_path, 'rb').read())\n",
    "        except IOError as e:\n",
    "            print(e)\n"
   ]
  },
  {
   "cell_type": "markdown",
   "id": "6a5bc742",
   "metadata": {},
   "source": [
    "#### rename a file"
   ]
  },
  {
   "cell_type": "code",
   "execution_count": 53,
   "id": "11edf345",
   "metadata": {},
   "outputs": [
    {
     "name": "stdout",
     "output_type": "stream",
     "text": [
      "/Users/robinchen/Desktop/recursive_get_files_in_folder\n"
     ]
    }
   ],
   "source": [
    "print(os.getcwd())"
   ]
  },
  {
   "cell_type": "code",
   "execution_count": 55,
   "id": "48eb452d",
   "metadata": {},
   "outputs": [
    {
     "name": "stdout",
     "output_type": "stream",
     "text": [
      "['test_folder', 'get_all_files.ipynb', '.DS_Store', 'README.md', '.ipynb_checkpoints', '.git']\n"
     ]
    }
   ],
   "source": [
    "print(os.listdir())"
   ]
  },
  {
   "cell_type": "code",
   "execution_count": null,
   "id": "67a8685a",
   "metadata": {},
   "outputs": [],
   "source": [
    "os.rename(r'', r'')"
   ]
  }
 ],
 "metadata": {
  "kernelspec": {
   "display_name": "PyG",
   "language": "python",
   "name": "pyg"
  },
  "language_info": {
   "codemirror_mode": {
    "name": "ipython",
    "version": 3
   },
   "file_extension": ".py",
   "mimetype": "text/x-python",
   "name": "python",
   "nbconvert_exporter": "python",
   "pygments_lexer": "ipython3",
   "version": "3.9.7"
  }
 },
 "nbformat": 4,
 "nbformat_minor": 5
}
